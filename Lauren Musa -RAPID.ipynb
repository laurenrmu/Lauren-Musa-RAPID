{
 "cells": [
  {
   "cell_type": "code",
   "execution_count": 1,
   "metadata": {},
   "outputs": [],
   "source": [
    "import pandas as pd\n",
    "from scipy import stats\n",
    "from statsmodels.stats.anova import AnovaRM\n"
   ]
  },
  {
   "cell_type": "code",
   "execution_count": 2,
   "metadata": {},
   "outputs": [
    {
     "data": {
      "text/html": [
       "<div>\n",
       "<style scoped>\n",
       "    .dataframe tbody tr th:only-of-type {\n",
       "        vertical-align: middle;\n",
       "    }\n",
       "\n",
       "    .dataframe tbody tr th {\n",
       "        vertical-align: top;\n",
       "    }\n",
       "\n",
       "    .dataframe thead th {\n",
       "        text-align: right;\n",
       "    }\n",
       "</style>\n",
       "<table border=\"1\" class=\"dataframe\">\n",
       "  <thead>\n",
       "    <tr style=\"text-align: right;\">\n",
       "      <th></th>\n",
       "      <th>Condition</th>\n",
       "      <th>Pretest</th>\n",
       "      <th>Posttest</th>\n",
       "      <th>Change</th>\n",
       "      <th>ID</th>\n",
       "    </tr>\n",
       "  </thead>\n",
       "  <tbody>\n",
       "    <tr>\n",
       "      <td>0</td>\n",
       "      <td>1</td>\n",
       "      <td>50</td>\n",
       "      <td>75</td>\n",
       "      <td>25</td>\n",
       "      <td>0</td>\n",
       "    </tr>\n",
       "    <tr>\n",
       "      <td>1</td>\n",
       "      <td>1</td>\n",
       "      <td>40</td>\n",
       "      <td>70</td>\n",
       "      <td>30</td>\n",
       "      <td>1</td>\n",
       "    </tr>\n",
       "    <tr>\n",
       "      <td>2</td>\n",
       "      <td>1</td>\n",
       "      <td>55</td>\n",
       "      <td>85</td>\n",
       "      <td>30</td>\n",
       "      <td>2</td>\n",
       "    </tr>\n",
       "    <tr>\n",
       "      <td>3</td>\n",
       "      <td>1</td>\n",
       "      <td>49</td>\n",
       "      <td>68</td>\n",
       "      <td>19</td>\n",
       "      <td>3</td>\n",
       "    </tr>\n",
       "    <tr>\n",
       "      <td>4</td>\n",
       "      <td>1</td>\n",
       "      <td>60</td>\n",
       "      <td>83</td>\n",
       "      <td>23</td>\n",
       "      <td>4</td>\n",
       "    </tr>\n",
       "    <tr>\n",
       "      <td>5</td>\n",
       "      <td>1</td>\n",
       "      <td>47</td>\n",
       "      <td>72</td>\n",
       "      <td>25</td>\n",
       "      <td>5</td>\n",
       "    </tr>\n",
       "    <tr>\n",
       "      <td>6</td>\n",
       "      <td>1</td>\n",
       "      <td>52</td>\n",
       "      <td>78</td>\n",
       "      <td>26</td>\n",
       "      <td>6</td>\n",
       "    </tr>\n",
       "    <tr>\n",
       "      <td>7</td>\n",
       "      <td>1</td>\n",
       "      <td>53</td>\n",
       "      <td>76</td>\n",
       "      <td>23</td>\n",
       "      <td>7</td>\n",
       "    </tr>\n",
       "    <tr>\n",
       "      <td>8</td>\n",
       "      <td>1</td>\n",
       "      <td>48</td>\n",
       "      <td>71</td>\n",
       "      <td>23</td>\n",
       "      <td>8</td>\n",
       "    </tr>\n",
       "    <tr>\n",
       "      <td>9</td>\n",
       "      <td>1</td>\n",
       "      <td>51</td>\n",
       "      <td>79</td>\n",
       "      <td>28</td>\n",
       "      <td>9</td>\n",
       "    </tr>\n",
       "    <tr>\n",
       "      <td>10</td>\n",
       "      <td>2</td>\n",
       "      <td>52</td>\n",
       "      <td>73</td>\n",
       "      <td>21</td>\n",
       "      <td>10</td>\n",
       "    </tr>\n",
       "    <tr>\n",
       "      <td>11</td>\n",
       "      <td>2</td>\n",
       "      <td>53</td>\n",
       "      <td>72</td>\n",
       "      <td>19</td>\n",
       "      <td>11</td>\n",
       "    </tr>\n",
       "    <tr>\n",
       "      <td>12</td>\n",
       "      <td>2</td>\n",
       "      <td>51</td>\n",
       "      <td>76</td>\n",
       "      <td>25</td>\n",
       "      <td>12</td>\n",
       "    </tr>\n",
       "    <tr>\n",
       "      <td>13</td>\n",
       "      <td>2</td>\n",
       "      <td>50</td>\n",
       "      <td>71</td>\n",
       "      <td>21</td>\n",
       "      <td>13</td>\n",
       "    </tr>\n",
       "    <tr>\n",
       "      <td>14</td>\n",
       "      <td>2</td>\n",
       "      <td>54</td>\n",
       "      <td>75</td>\n",
       "      <td>21</td>\n",
       "      <td>14</td>\n",
       "    </tr>\n",
       "    <tr>\n",
       "      <td>15</td>\n",
       "      <td>2</td>\n",
       "      <td>62</td>\n",
       "      <td>78</td>\n",
       "      <td>16</td>\n",
       "      <td>15</td>\n",
       "    </tr>\n",
       "    <tr>\n",
       "      <td>16</td>\n",
       "      <td>2</td>\n",
       "      <td>42</td>\n",
       "      <td>62</td>\n",
       "      <td>20</td>\n",
       "      <td>16</td>\n",
       "    </tr>\n",
       "    <tr>\n",
       "      <td>17</td>\n",
       "      <td>2</td>\n",
       "      <td>49</td>\n",
       "      <td>68</td>\n",
       "      <td>19</td>\n",
       "      <td>17</td>\n",
       "    </tr>\n",
       "    <tr>\n",
       "      <td>18</td>\n",
       "      <td>2</td>\n",
       "      <td>55</td>\n",
       "      <td>69</td>\n",
       "      <td>14</td>\n",
       "      <td>18</td>\n",
       "    </tr>\n",
       "    <tr>\n",
       "      <td>19</td>\n",
       "      <td>2</td>\n",
       "      <td>57</td>\n",
       "      <td>73</td>\n",
       "      <td>16</td>\n",
       "      <td>19</td>\n",
       "    </tr>\n",
       "  </tbody>\n",
       "</table>\n",
       "</div>"
      ],
      "text/plain": [
       "    Condition  Pretest  Posttest  Change  ID\n",
       "0           1       50        75      25   0\n",
       "1           1       40        70      30   1\n",
       "2           1       55        85      30   2\n",
       "3           1       49        68      19   3\n",
       "4           1       60        83      23   4\n",
       "5           1       47        72      25   5\n",
       "6           1       52        78      26   6\n",
       "7           1       53        76      23   7\n",
       "8           1       48        71      23   8\n",
       "9           1       51        79      28   9\n",
       "10          2       52        73      21  10\n",
       "11          2       53        72      19  11\n",
       "12          2       51        76      25  12\n",
       "13          2       50        71      21  13\n",
       "14          2       54        75      21  14\n",
       "15          2       62        78      16  15\n",
       "16          2       42        62      20  16\n",
       "17          2       49        68      19  17\n",
       "18          2       55        69      14  18\n",
       "19          2       57        73      16  19"
      ]
     },
     "execution_count": 2,
     "metadata": {},
     "output_type": "execute_result"
    }
   ],
   "source": [
    "data = pd.read_excel('research_data.xlsx')  \n",
    "data['Change'] = data['Posttest']-data['Pretest']\n",
    "data['ID'] = data.index.values\n",
    "data"
   ]
  },
  {
   "cell_type": "markdown",
   "metadata": {},
   "source": [
    "First we will explore our data. A test of normality on the pretest data will be preformed to see if it is appropriate to use t-tests. We will also compute the mean change in scores under conditions 1 and 2  and check to see there is a significant difference between the pretest groups. A difference between groups in the pretest data would lead to a design flaw as we are trying to see the effects of conditions 1 and 2. Our goal is to see if there is a significant difference in the change of test values. "
   ]
  },
  {
   "cell_type": "code",
   "execution_count": 3,
   "metadata": {},
   "outputs": [
    {
     "data": {
      "text/plain": [
       "((0.9697864651679993, 0.888858437538147),\n",
       " (0.9697864651679993, 0.888858437538147))"
      ]
     },
     "execution_count": 3,
     "metadata": {},
     "output_type": "execute_result"
    }
   ],
   "source": [
    "Cond_1_shapiro_test = stats.shapiro(data['Pretest'].loc[data['Condition']==1])\n",
    "Cond_2_shapiro_test = stats.shapiro(data['Pretest'].loc[data['Condition']==2])\n",
    "Cond_1_shapiro_test,Cond_2_shapiro_test,\n"
   ]
  },
  {
   "cell_type": "code",
   "execution_count": 4,
   "metadata": {},
   "outputs": [
    {
     "name": "stdout",
     "output_type": "stream",
     "text": [
      "Mean change under conditions 1 and 2  was 25.2 and 19.2\n"
     ]
    }
   ],
   "source": [
    "print('Mean change under conditions 1 and 2  was', data['Change'].loc[data['Condition']==1].mean(axis = 0), 'and',data['Change'].loc[data['Condition']==2].mean(axis = 0))"
   ]
  },
  {
   "cell_type": "markdown",
   "metadata": {},
   "source": [
    "Both results presented with a p-value of .8889 meaning we can assume the data is normal. We also found condition 1 produces a higher mean change at 25.2 compared to 19.2 Normality implies use of 2-sample t-test is approprite as the assumptions are met. Next, we will test to see if the pretest results are significnatly different between conditions 1 and 2 using a 2 sample welch's t-test. "
   ]
  },
  {
   "cell_type": "code",
   "execution_count": 5,
   "metadata": {},
   "outputs": [
    {
     "data": {
      "text/plain": [
       "Ttest_indResult(statistic=-0.8476808799610246, pvalue=0.40774650093191034)"
      ]
     },
     "execution_count": 5,
     "metadata": {},
     "output_type": "execute_result"
    }
   ],
   "source": [
    "Welchs = stats.ttest_ind(data['Pretest'].loc[data['Condition']==1],data['Pretest'].loc[data['Condition']==2],equal_var = False)\n",
    "Welchs"
   ]
  },
  {
   "cell_type": "markdown",
   "metadata": {},
   "source": [
    "There is no significant difference with a p-value of .4077. Now, we see if there is a difference between the change in the  groups scores. Since we are working with related groups, we will use a repeated measure ANOVA test on the data. We can acheieve the RM-ANOVA test by using a one-way ANOVA test on the pretest and the change data columns."
   ]
  },
  {
   "cell_type": "code",
   "execution_count": 13,
   "metadata": {},
   "outputs": [
    {
     "name": "stdout",
     "output_type": "stream",
     "text": [
      "The value of the F statistic and p-value is 362.39302377249624  and  4.9929589380519775e-21\n"
     ]
    }
   ],
   "source": [
    "F,P = stats.f_oneway(data['Pretest'],data['Change'])\n",
    "print('The value of the F statistic and p-value is' ,F,' and ',P)"
   ]
  },
  {
   "cell_type": "markdown",
   "metadata": {},
   "source": [
    "With a P values of near 0 , we reject the null hypothesis of equality. In this case, it would imply there is a significant difference between the conditions 1 and 2 on the score of the postest. We can assume the residuals follow a normal distribution as the model would throw an error if they did not. To check the method I will also preform a 2 sample t test using the change column."
   ]
  },
  {
   "cell_type": "code",
   "execution_count": 7,
   "metadata": {},
   "outputs": [
    {
     "data": {
      "text/plain": [
       "Ttest_indResult(statistic=4.032996434533988, pvalue=0.0007891693843779189)"
      ]
     },
     "execution_count": 7,
     "metadata": {},
     "output_type": "execute_result"
    }
   ],
   "source": [
    "Welchs = stats.ttest_ind(data['Change'].loc[data['Condition']==1],data['Change'].loc[data['Condition']==2],equal_var = False)\n",
    "Welchs"
   ]
  },
  {
   "cell_type": "markdown",
   "metadata": {},
   "source": [
    "The 2 sample t-test on the change in value was significant at p=.0008. Thus this test also suggests a significant difference between the groups. Therefore, there is enough evidence to suggest that applying condition 1 will lead to a higher change in test scores compared to applying condition 2. "
   ]
  }
 ],
 "metadata": {
  "kernelspec": {
   "display_name": "customerseg",
   "language": "python",
   "name": "customerseg"
  },
  "language_info": {
   "codemirror_mode": {
    "name": "ipython",
    "version": 3
   },
   "file_extension": ".py",
   "mimetype": "text/x-python",
   "name": "python",
   "nbconvert_exporter": "python",
   "pygments_lexer": "ipython3",
   "version": "3.7.4"
  }
 },
 "nbformat": 4,
 "nbformat_minor": 2
}
